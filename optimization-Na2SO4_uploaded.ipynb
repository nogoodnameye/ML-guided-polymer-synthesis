{
 "cells": [
  {
   "cell_type": "code",
   "execution_count": null,
   "metadata": {},
   "outputs": [],
   "source": [
    "import pandas as pd\n",
    "from rdkit import Chem\n",
    "from rdkit.Chem import AllChem\n",
    "import numpy as np\n",
    "from hyperopt import hp, tpe, Trials, STATUS_OK, fmin\n",
    "from xgboost import XGBRegressor\n",
    "from sklearn.metrics import r2_score\n",
    "from sklearn.preprocessing import StandardScaler, MinMaxScaler, MaxAbsScaler, RobustScaler, PowerTransformer, QuantileTransformer\n",
    "import category_encoders as ce\n",
    "import warnings\n",
    "warnings.filterwarnings(\"ignore\")"
   ]
  },
  {
   "cell_type": "code",
   "execution_count": null,
   "metadata": {},
   "outputs": [],
   "source": [
    "class morgan_fp:\n",
    "    def __init__(self, radius, length):\n",
    "        self.radius = radius\n",
    "        self.length = length\n",
    "    def __call__(self, smiles):\n",
    "        mol = Chem.MolFromSmiles(smiles)\n",
    "        fp = AllChem.GetMorganFingerprintAsBitVect(mol, self.radius, self.length)\n",
    "        npfp = np.array(list(fp.ToBitString())).astype('float32')\n",
    "        return npfp"
   ]
  },
  {
   "cell_type": "code",
   "execution_count": null,
   "metadata": {},
   "outputs": [],
   "source": [
    "data_salt = pd.read_excel('final_data_041621_new.xlsx')\n",
    "data_NaSO4 = data_salt[['Monomer A1 type', 'Monomer A2 type', 'a-mw', 'a-smile', 'b-mw',\n",
    "       'b-smile', 'A1/A2 ratio', 'Monomer A concentration', 'Monomer B type',\n",
    "       'Monomer B concentration', 'Organic solvent type',\n",
    "       ' Additive X1 type in aqueous phase', 'Additive X1 concentration',\n",
    "       ' Additive X2 type in aqueous phase', 'Additive X2 concentration',\n",
    "       'Aqueous phase pH', ' Additive Y type in organic  phase',\n",
    "       'Additive Y concentration', 'Nanomaterials type in aqueous phase',\n",
    "       'Nanomaterials loading in aqueous phase',\n",
    "       'Nanomaterials type in organic phase',\n",
    "       'Nanomaterials loading in organnic phase', 'nanomaterials morphology',\n",
    "       'Polymerization time', 'Post-treatment time', 'post-treatment T',\n",
    "       'Substrate membrane type', 'substrate membrane pore size',\n",
    "        'TMP',\n",
    "        'Na+ valence', 'Na+ ionic radius', 'Na+ hydrated radius', 'Na+ stokes radius', 'Na+ hydration free energy',\n",
    "        'SO42- valence', 'SO42-  ionic radius', 'SO42-  hydrated radius', 'SO42-  stokes radius', 'SO42-  hydration free energy',     \n",
    "       'Na2SO4 concentration', \n",
    "       'Na2SO4 rejection']].copy()\n",
    "data_NaSO4.dropna(subset=['Na2SO4 rejection'], axis =0, inplace=True)\n",
    "data_NaSO4.reset_index(drop=True, inplace=True)"
   ]
  },
  {
   "cell_type": "code",
   "execution_count": null,
   "metadata": {},
   "outputs": [],
   "source": [
    "train_data_per = pd.read_csv('per_train_data.csv')\n",
    "train_data_salt = pd.read_csv('salt_train_data.csv')\n"
   ]
  },
  {
   "cell_type": "code",
   "execution_count": null,
   "metadata": {},
   "outputs": [],
   "source": [
    "#scaler = StandardScaler()\n",
    "def conv_data_pd_per(data, data_t, fp, en, scaler, numeric_features):\n",
    "    data['a-fp'] = data['a-smile'].apply(fp)\n",
    "    data['b-fp'] = data['b-smile'].apply(fp)\n",
    "    x_a=np.array(list(data['a-fp']))\n",
    "    x_b=np.array(list(data['b-fp']))\n",
    "    for i in range(len(data)):\n",
    "        if data['b-smile'][i]=='C':\n",
    "            x_b[i]=x_b[i]*0\n",
    "    \n",
    "    X_train = data_t.drop(columns=['Monomer A1 type', 'a-smile','Monomer A2 type', 'b-smile', 'Permeability', 'a-fp', 'b-fp']).copy()\n",
    "    Y_train = data_t['Permeability'].copy()\n",
    "    hh=en.fit_transform(X_train, Y_train)\n",
    "    SC= scaler.fit(hh[numeric_features])\n",
    "    \n",
    "    x = data.drop(columns=['Monomer A1 type', 'a-smile','Monomer A2 type', 'b-smile', 'Permeability', 'a-fp', 'b-fp']).copy()\n",
    "    y = data['Permeability'].copy()\n",
    "    xx = en.transform(x, y)\n",
    "    col_pd = xx.drop(columns= numeric_features) #pd\n",
    "    xxxx = SC.transform(xx[numeric_features])\n",
    "    num_pd = pd.DataFrame(data= xxxx, columns=numeric_features) #pd\n",
    "    \n",
    "    xxxxx = np.concatenate((x_a, x_b), axis =1)\n",
    "    fp_pd = pd.DataFrame(data= xxxxx, columns=[f'f_{i}' for i in range(2*x_a.shape[1])])\n",
    "    \n",
    "    x_pd = pd.concat([fp_pd, col_pd, num_pd], axis =1)\n",
    "    y = data['Permeability'].values\n",
    "    return x_pd, y\n",
    "\n",
    "#scaler = StandardScaler()\n",
    "def conv_data_pd_salt(data, data_t, fp, en, scaler, numeric_features):\n",
    "    data['a-fp'] = data['a-smile'].apply(fp)\n",
    "    data['b-fp'] = data['b-smile'].apply(fp)\n",
    "    x_a=np.array(list(data['a-fp']))\n",
    "    x_b=np.array(list(data['b-fp']))\n",
    "    for i in range(len(data)):\n",
    "        if data['b-smile'][i]=='C':\n",
    "            x_b[i]=x_b[i]*0\n",
    "    \n",
    "    X_train = data_t.drop(columns=['Monomer A1 type', 'a-smile','Monomer A2 type', 'b-smile', 'salt rejection', 'a-fp', 'b-fp']).copy()\n",
    "    Y_train = data_t['salt rejection'].copy()\n",
    "    hh=en.fit_transform(X_train, Y_train)\n",
    "    SC= scaler.fit(hh[numeric_features])\n",
    "    \n",
    "    x = data.drop(columns=['Monomer A1 type', 'a-smile','Monomer A2 type', 'b-smile', 'salt rejection',  'a-fp', 'b-fp']).copy()\n",
    "    y = data['salt rejection'].copy()\n",
    "    xx = en.transform(x, y)\n",
    "    col_pd = xx.drop(columns= numeric_features) #pd\n",
    "    xxxx = SC.transform(xx[numeric_features])\n",
    "    num_pd = pd.DataFrame(data= xxxx, columns=numeric_features) #pd\n",
    "    \n",
    "    xxxxx = np.concatenate((x_a, x_b), axis =1)\n",
    "    fp_pd = pd.DataFrame(data= xxxxx, columns=[f'f_{i}' for i in range(2*x_a.shape[1])])\n",
    "    \n",
    "    x_pd = pd.concat([fp_pd, col_pd, num_pd], axis =1)\n",
    "    y = data['salt rejection'].values\n",
    "    \n",
    "    return x_pd, y"
   ]
  },
  {
   "cell_type": "code",
   "execution_count": null,
   "metadata": {},
   "outputs": [],
   "source": [
    "categorical_features_per = train_data_per.select_dtypes(include=['object']).drop(['Monomer A1 type','a-smile', 'Monomer A2 type', 'b-smile'], axis=1).columns\n",
    "numeric_features_per = train_data_per.select_dtypes(include=['int64', 'float64']).drop(['Permeability'], axis=1).columns"
   ]
  },
  {
   "cell_type": "code",
   "execution_count": null,
   "metadata": {},
   "outputs": [],
   "source": [
    "import ast\n",
    "result = pd.read_csv('per.csv')\n",
    "result.sort_values('loss', ascending= True, inplace = True)\n",
    "result.reset_index(drop = True, inplace =True)\n",
    "params = ast.literal_eval(result['params'][0])\n",
    "fp_per = morgan_fp(0, params['fp_length'])\n",
    "sc_per = PowerTransformer()\n",
    "en_per=ce.backward_difference.BackwardDifferenceEncoder(cols = categorical_features_per)\n",
    "model_per = XGBRegressor(max_delta_step=params['max_delta_step'], learning_rate = params['learning_rate'],\n",
    "                    max_depth = params['max_depth'], min_child_weight= params['min_child_weight'],\n",
    "                    subsample=params['subsample'],reg_alpha=params['reg_alpha'],gamma= params['gamma'],\n",
    "                    reg_lambda= params['reg_lambda'],n_estimators=params['n_estimators'], random_state=10)\n"
   ]
  },
  {
   "cell_type": "code",
   "execution_count": null,
   "metadata": {},
   "outputs": [],
   "source": [
    "###Checking the model\n",
    "model_per.load_model(\"per_model.model\")\n",
    "x_train_pd, y_train = conv_data_pd_per(train_data_per, train_data_per, fp_per, en_per, sc_per, numeric_features_per)\n",
    "x_train=x_train_pd.values\n",
    "r2_score(y_train, model_per.predict(x_train))"
   ]
  },
  {
   "cell_type": "code",
   "execution_count": null,
   "metadata": {},
   "outputs": [],
   "source": [
    "categorical_features_salt = train_data_salt.select_dtypes(include=['object']).drop(['Monomer A1 type','a-smile', 'Monomer A2 type', 'b-smile'], axis=1).columns\n",
    "numeric_features_salt = train_data_salt.select_dtypes(include=['int64', 'float64']).drop(['salt rejection'], axis=1).columns"
   ]
  },
  {
   "cell_type": "code",
   "execution_count": null,
   "metadata": {},
   "outputs": [],
   "source": [
    "result = pd.read_csv('rej.csv')\n",
    "result.sort_values('loss', ascending= True, inplace = True)\n",
    "result.reset_index(drop = True, inplace =True)\n",
    "params = ast.literal_eval(result['params'][0])\n",
    "fp_salt = morgan_fp(params['fp_radius'], params['fp_length'])\n",
    "sc_salt = RobustScaler()\n",
    "en_salt =  ce.helmert.HelmertEncoder(cols = categorical_features_salt)\n",
    "x_train_pd, y_train = conv_data_pd_salt(train_data_salt, train_data_salt, fp_salt, en_salt, sc_salt,numeric_features_salt )\n",
    "x_train=x_train_pd.values\n",
    "model_salt = XGBRegressor(max_delta_step=params['max_delta_step'], learning_rate = params['learning_rate'],\n",
    "                    max_depth = params['max_depth'], min_child_weight= params['min_child_weight'],\n",
    "                    subsample=params['subsample'],reg_alpha=params['reg_alpha'],gamma= params['gamma'],\n",
    "                    reg_lambda= params['reg_lambda'],n_estimators=params['n_estimators'])"
   ]
  },
  {
   "cell_type": "code",
   "execution_count": null,
   "metadata": {},
   "outputs": [],
   "source": [
    "###Checking the model\n",
    "model_salt.load_model('rej_model.model')\n",
    "x_train_pd, y_train = conv_data_pd_salt(train_data_salt, train_data_salt, fp_salt, en_salt, sc_salt, numeric_features_salt)\n",
    "x_train=x_train_pd.values\n",
    "r2_score(y_train, model_salt.predict(x_train))"
   ]
  },
  {
   "cell_type": "code",
   "execution_count": null,
   "metadata": {},
   "outputs": [],
   "source": [
    "col = list(train_data_salt.columns)\n",
    "col.append('Permeability')"
   ]
  },
  {
   "cell_type": "code",
   "execution_count": null,
   "metadata": {},
   "outputs": [],
   "source": [
    "###limited momonmer\n",
    "mom_l = pd.read_excel('top_5.xlsx', sheet_name='Sheet2')\n",
    "mom_l.head(20)"
   ]
  },
  {
   "cell_type": "code",
   "execution_count": null,
   "metadata": {},
   "outputs": [],
   "source": [
    "mom_l.loc[14, 'Monomer A1 type']='carbon'\n",
    "mom_l.loc[14, 'a-smile']='C'\n",
    "mom_l.loc[14, 'a-mw']=0"
   ]
  },
  {
   "cell_type": "code",
   "execution_count": null,
   "metadata": {},
   "outputs": [],
   "source": [
    "\n",
    "X1T = mom_l[[' Additive X1 type in aqueous phase']].copy()\n",
    "X1T.drop_duplicates(keep='first', inplace=True)\n",
    "X1T.reset_index(drop=True, inplace=True)\n",
    "X1T.head()\n"
   ]
  },
  {
   "cell_type": "code",
   "execution_count": null,
   "metadata": {},
   "outputs": [],
   "source": [
    "\n",
    "sub = mom_l[['Substrate membrane type', 'substrate membrane pore size']].copy()\n",
    "sub.drop_duplicates(keep='first', inplace=True)\n",
    "sub.reset_index(drop=True, inplace=True)\n",
    "sub.drop(index = 3, inplace=True)\n",
    "sub.head()\n"
   ]
  },
  {
   "cell_type": "code",
   "execution_count": null,
   "metadata": {},
   "outputs": [],
   "source": [
    "###optimization\n",
    "space = {\n",
    "    'a-smile': hp.randint('a-smile', len(mom_l)),\n",
    "    'b-smile': hp.randint('b-smile', len(mom_l)),\n",
    "    #'Monomer B type': hp.randint('Monomer B type', len(MB)),\n",
    "    #'Organic solvent type': hp.randint('Organic solvent type', len(OB)),\n",
    "    ' Additive X1 type in aqueous phase': hp.randint(' Additive X1 type in aqueous phase', len(X1T)),\n",
    "    #' Additive X2 type in aqueous phase': hp.randint(' Additive X2 type in aqueous phase', len(X2T)),\n",
    "    #' Additive Y type in organic  phase':hp.randint(' Additive Y type in aqueous phase', len(YT)),\n",
    "    #'Nanomaterials type in aqueous phase':hp.randint('Nanomaterials type in aqueous phase', len(NTA)),\n",
    "    #'Nanomaterials type in organic phase':hp.randint('Nanomaterials type in organic phase', len(NTO)),\n",
    "   'Substrate membrane type':hp.randint('Substrate membrane type', len(sub)),\n",
    "    #'nanomaterials morphology':hp.randint('nanomaterials morphology', len(NS)),\n",
    "    'A2/A1 ratio': hp.uniform('A1/A2 ratio', 0, 8),\n",
    "    'Monomer A concentration': hp.uniform('Monomer A concentration', 0.01, 3),\n",
    "    'Monomer B concentration': hp.uniform('Monomer B concentration', 0.01, 1),\n",
    "    'Additive X1 concentration': hp.uniform('Additive X1 concentration', 0.01, 0.6),\n",
    "    #'Additive X2 concentration': hp.choice('Additive X2 concentration',[hp.uniform('Additive X2 concentration_a', 0, 10), np.nan]),\n",
    "    #'Aqueous phase pH':hp.choice('Aqueous phase pH', [hp.uniform('Aqueous phase pH_a', 7, 12), np.nan]),\n",
    "    #'Additive Y concentration':hp.choice('Additive Y concentration', [hp.uniform('Additive Y concentration_a', 0, 2), np.nan]),\n",
    "    'Nanomaterials loading in aqueous phase': hp.uniform('Nanomaterials loading in aqueous phase_a', 0.001, 0.1),\n",
    "    #'Nanomaterials loading in organnic phase':hp.uniform('Nanomaterials loading in organnic phase', 0, 4),\n",
    "    'Polymerization time':hp.quniform('Polymerization time_a', 5, 600, 1),\n",
    "    'Post-treatment time':hp.quniform('Post-treatment time_a', 1, 30,1),\n",
    "    'post-treatment T': hp.quniform('post-treatment T_a', 22, 65,1), \n",
    "    'TMP':hp.quniform('TMP', 2, 10,1)\n",
    "        \n",
    "}"
   ]
  },
  {
   "cell_type": "code",
   "execution_count": null,
   "metadata": {},
   "outputs": [],
   "source": [
    "##NaCl\n",
    "def get_x_l(params):\n",
    "    hh = pd.DataFrame(columns=col)\n",
    "    hh.loc[0, 'Monomer A1 type']=mom_l.loc[params['a-smile'],'Monomer A1 type']\n",
    "    hh.loc[0,'a-smile']=mom_l.loc[params['a-smile'],'a-smile']\n",
    "    hh.loc[0,'a-mw']=mom_l.loc[params['a-smile'],'a-mw']\n",
    "    hh.loc[0, 'Monomer A2 type']=mom_l.loc[params['b-smile'],'Monomer A1 type']\n",
    "    hh.loc[0, 'b-smile']=mom_l.loc[params['b-smile'],'a-smile']\n",
    "    hh.loc[0, 'b-mw']=mom_l.loc[params['b-smile'],'a-mw']\n",
    "    hh.loc[0, 'A2/A1 ratio']=params['A2/A1 ratio']\n",
    "    hh.loc[0, 'Monomer A concentration']=params['Monomer A concentration']\n",
    "    hh.loc[0,'Monomer B concentration']=params['Monomer B concentration']\n",
    "    hh.loc[0, 'Additive X1 concentration']=params['Additive X1 concentration']\n",
    "    hh.loc[0, 'Additive X2 concentration']=0\n",
    "    hh.loc[0, 'Aqueous phase pH']=np.nan\n",
    "    hh.loc[0,'Additive Y concentration']=0\n",
    "    hh.loc[0, 'Nanomaterials loading in aqueous phase']=params['Nanomaterials loading in aqueous phase']\n",
    "    hh.loc[0, 'Nanomaterials loading in organnic phase']=0\n",
    "    hh.loc[0, 'Polymerization time']=params['Polymerization time']\n",
    "    hh.loc[0, 'Post-treatment time']=params['Post-treatment time']\n",
    "    hh.loc[0,'post-treatment T']=params['post-treatment T']\n",
    "    hh.loc[0,'TMP']=params['TMP']\n",
    "\n",
    "\n",
    "    hh.loc[0, 'Monomer B type']='trimesoyl chloride (265.5)'\n",
    "    hh.loc[0, 'Substrate membrane type']=sub.loc[params['Substrate membrane type'], 'Substrate membrane type']\n",
    "    hh.loc[0, 'nanomaterials morphology']= np.nan\n",
    "    hh.loc[0,'Organic solvent type']= 'Hexane'\n",
    "    hh.loc[0, ' Additive X1 type in aqueous phase']= X1T.loc[params[' Additive X1 type in aqueous phase'], ' Additive X1 type in aqueous phase']\n",
    "    hh.loc[0, ' Additive X2 type in aqueous phase']= np.nan\n",
    "    hh.loc[0, ' Additive Y type in organic  phase']= np.nan\n",
    "    hh.loc[0, 'Nanomaterials type in aqueous phase']= 'CNC'\n",
    "    hh.loc[0, 'Nanomaterials type in organic phase']= np.nan\n",
    "    \n",
    "    \n",
    "    \n",
    "    hh.loc[0, 'Cation valence']=data_NaSO4['Na+ valence'][0]\n",
    "    hh.loc[0,'Cation ionic radius' ]=data_NaSO4['Na+ ionic radius'][0]\n",
    "    hh.loc[0, 'Cation hydrated radius']=data_NaSO4['Na+ hydrated radius'][0]\n",
    "    hh.loc[0, 'Cation stokes radius']=data_NaSO4['Na+ stokes radius'][0]\n",
    "    hh.loc[0, 'Cation hydration free energy']=data_NaSO4['Na+ hydration free energy'][0]\n",
    "    hh.loc[0, 'Anion valence']=data_NaSO4['SO42- valence'][0]\n",
    "    hh.loc[0, 'Anion ionic radius']=data_NaSO4['SO42-  ionic radius'][0]\n",
    "    hh.loc[0, 'Anion hydrated radius']=data_NaSO4['SO42-  hydrated radius'][0]\n",
    "    hh.loc[0, 'Anion  stokes radius']=data_NaSO4['SO42-  stokes radius'][0]\n",
    "    hh.loc[0, 'Anion  hydration free energy']=data_NaSO4['SO42-  hydration free energy'][0]\n",
    "    hh.loc[0, 'salt concentration']=1000\n",
    "    hh.loc[0, 'substrate membrane pore size']=sub.loc[params['Substrate membrane type'],'substrate membrane pore size']\n",
    "    hh.loc[0, 'salt rejection']=np.nan\n",
    "    hh.loc[0, 'Permeability']=np.nan\n",
    "    \n",
    "    return hh"
   ]
  },
  {
   "cell_type": "code",
   "execution_count": null,
   "metadata": {},
   "outputs": [],
   "source": [
    "from hyperopt.pyll.stochastic import sample\n",
    "hh = sample(space)"
   ]
  },
  {
   "cell_type": "code",
   "execution_count": null,
   "metadata": {},
   "outputs": [],
   "source": [
    "d = get_x_l(hh)"
   ]
  },
  {
   "cell_type": "code",
   "execution_count": null,
   "metadata": {},
   "outputs": [],
   "source": [
    "def fit(params):\n",
    "    hh= get_x_l(params)\n",
    "    if hh['a-smile'][0]==hh['b-smile'][0]:\n",
    "        hh.loc[0, 'b-smile']='C'\n",
    "        hh.loc[0, 'b-mw']=0\n",
    "    for i in hh[hh[' Additive X1 type in aqueous phase'].isnull()==True].index:\n",
    "        hh.loc[i, 'Additive X1 concentration']=0\n",
    "    if hh['b-smile'][0]=='C':\n",
    "        hh.loc[0,'A2/A1 ratio']=0\n",
    "    x_pd_salt,_ = conv_data_pd_salt(hh[train_data_salt.columns], train_data_salt, fp_salt, en_salt,sc_salt, numeric_features_salt)\n",
    "    x_salt=x_pd_salt.values\n",
    "    x_pd_per,_ = conv_data_pd_per(hh[train_data_per.columns],train_data_per, fp_per, en_per,sc_per, numeric_features_per )\n",
    "    x_per=x_pd_per.values\n",
    "    pred = model_salt.predict(x_salt)[0]\n",
    "    per_pred = model_per.predict(x_per)[0]\n",
    "    return abs((pred/((100-pred)*params['TMP']))-60) + abs(per_pred -19), pred/((100-pred)*params['TMP']), pred, per_pred\n",
    "\n",
    "def objective(params):\n",
    "    global ITERATION\n",
    "    ITERATION +=1\n",
    "    loss,y, salt, per = fit(params)\n",
    "    off_connection = open(out_file, 'a')\n",
    "    writer = csv.writer(off_connection)\n",
    "    writer.writerow([loss,y, salt, per, params, ITERATION])\n",
    "    return {'loss':loss,'Y':y,'salt':salt, 'per':per, 'params': params, 'iteration':ITERATION, 'status':STATUS_OK}\n",
    "\n",
    "import csv\n",
    "out_file ='salt_opt_SO4_19_60_withnm.csv'\n",
    "off_connection =open(out_file, 'w')\n",
    "writer = csv.writer(off_connection)\n",
    "writer.writerow(['loss','Y','salt', 'per', 'params', 'iteration'])\n",
    "off_connection.close()\n",
    "\n",
    "tpe_algo = tpe.suggest\n",
    "bayes_trial = Trials()"
   ]
  },
  {
   "cell_type": "code",
   "execution_count": null,
   "metadata": {},
   "outputs": [],
   "source": [
    "##%%capture\n",
    "global ITERATION\n",
    "ITERATION =0\n",
    "best = fmin(fn = objective, space =space, algo = tpe_algo, trials = bayes_trial, max_evals=24000, rstate= np.random.RandomState(50)) "
   ]
  },
  {
   "cell_type": "code",
   "execution_count": null,
   "metadata": {},
   "outputs": [],
   "source": [
    "##NaCL\n",
    "result = pd.read_csv('salt_opt_SO4_19_60_withnm.csv')\n",
    "result.sort_values('Y', ascending= False, inplace = True)\n",
    "result.reset_index(drop = True, inplace =True)\n",
    "result.head(20)"
   ]
  },
  {
   "cell_type": "code",
   "execution_count": null,
   "metadata": {},
   "outputs": [],
   "source": [
    "##NaCL\n",
    "result = pd.read_csv('salt_opt_SO4_19_60.csv')\n",
    "result.sort_values('per', ascending= False, inplace = True)\n",
    "result.reset_index(drop = True, inplace =True)\n",
    "result.head(10)"
   ]
  },
  {
   "cell_type": "code",
   "execution_count": null,
   "metadata": {},
   "outputs": [],
   "source": [
    "result['params'][3]"
   ]
  },
  {
   "cell_type": "code",
   "execution_count": null,
   "metadata": {},
   "outputs": [],
   "source": [
    "tt=result.loc[0:50]\n",
    "tt.to_csv('NaSO4_19_60_withnm.csv', index=False)"
   ]
  },
  {
   "cell_type": "code",
   "execution_count": null,
   "metadata": {},
   "outputs": [],
   "source": [
    "hh = pd.DataFrame(columns=col)"
   ]
  },
  {
   "cell_type": "code",
   "execution_count": null,
   "metadata": {},
   "outputs": [],
   "source": [
    "import ast\n",
    "for i in range(20):\n",
    "    params = ast.literal_eval(result['params'][i])\n",
    "    cc= get_x_l(params)\n",
    "    if cc['a-smile'][0]==cc['b-smile'][0]:\n",
    "        cc.loc[0, 'b-smile']='C'\n",
    "        cc.loc[0, 'b-mw']=0\n",
    "    for i in cc[cc[' Additive X1 type in aqueous phase'].isnull()==True].index:\n",
    "        cc.loc[i, 'Additive X1 concentration']=0\n",
    "    if cc['b-smile'][0]=='C':\n",
    "        cc.loc[0,'A2/A1 ratio']=0\n",
    "    hh = pd.concat([hh, cc], ignore_index=True)\n"
   ]
  },
  {
   "cell_type": "code",
   "execution_count": null,
   "metadata": {},
   "outputs": [],
   "source": [
    "hh.head()"
   ]
  },
  {
   "cell_type": "code",
   "execution_count": null,
   "metadata": {},
   "outputs": [],
   "source": [
    "hh.to_excel('NaSO4_19_60_condition_withnm.xlsx', index=False)"
   ]
  },
  {
   "cell_type": "code",
   "execution_count": null,
   "metadata": {},
   "outputs": [],
   "source": []
  }
 ],
 "metadata": {
  "kernelspec": {
   "display_name": "Python 3",
   "language": "python",
   "name": "python3"
  },
  "language_info": {
   "codemirror_mode": {
    "name": "ipython",
    "version": 3
   },
   "file_extension": ".py",
   "mimetype": "text/x-python",
   "name": "python",
   "nbconvert_exporter": "python",
   "pygments_lexer": "ipython3",
   "version": "3.7.10"
  }
 },
 "nbformat": 4,
 "nbformat_minor": 2
}
